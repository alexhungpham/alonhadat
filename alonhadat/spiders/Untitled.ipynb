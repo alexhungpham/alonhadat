{
 "cells": [
  {
   "cell_type": "code",
   "execution_count": 17,
   "metadata": {},
   "outputs": [
    {
     "data": {
      "text/html": [
       "<div>\n",
       "<style scoped>\n",
       "    .dataframe tbody tr th:only-of-type {\n",
       "        vertical-align: middle;\n",
       "    }\n",
       "\n",
       "    .dataframe tbody tr th {\n",
       "        vertical-align: top;\n",
       "    }\n",
       "\n",
       "    .dataframe thead th {\n",
       "        text-align: right;\n",
       "    }\n",
       "</style>\n",
       "<table border=\"1\" class=\"dataframe\">\n",
       "  <thead>\n",
       "    <tr style=\"text-align: right;\">\n",
       "      <th></th>\n",
       "      <th>webpage</th>\n",
       "      <th>title</th>\n",
       "      <th>link</th>\n",
       "      <th>postdate</th>\n",
       "      <th>price</th>\n",
       "      <th>proparea</th>\n",
       "      <th>propsquares</th>\n",
       "      <th>measurement</th>\n",
       "      <th>floors</th>\n",
       "      <th>parkings</th>\n",
       "    </tr>\n",
       "  </thead>\n",
       "  <tbody>\n",
       "    <tr>\n",
       "      <td>0</td>\n",
       "      <td>https://alonhadat.com.vn/nha-dat/can-ban.html</td>\n",
       "      <td>BIỆT THỰ ĐANG CHO THUÊ 3000 USD, BÁN GẤP ĐI NƯ...</td>\n",
       "      <td>/biet-thu-dang-cho-thue-3000-usd-ban-gap-di-nu...</td>\n",
       "      <td>2020-03-13</td>\n",
       "      <td>5,12 tỷ</td>\n",
       "      <td>Đường Nguyễn Văn Hưởng</td>\n",
       "      <td>203 m</td>\n",
       "      <td>10x20,3m</td>\n",
       "      <td>2 lầu</td>\n",
       "      <td>chỗ để xe</td>\n",
       "    </tr>\n",
       "    <tr>\n",
       "      <td>1</td>\n",
       "      <td>https://alonhadat.com.vn/nha-dat/can-ban.html</td>\n",
       "      <td>XUẤT NGOẠI BÁN ĐẤT ĐỐI DIỆN CHỢ 200M2(10X20) +...</td>\n",
       "      <td>/xuat-ngoai-ban-dat-doi-dien-cho-300m2-12x25-n...</td>\n",
       "      <td>2020-03-13</td>\n",
       "      <td>520 triệu</td>\n",
       "      <td>Phường Thảo Điền</td>\n",
       "      <td>300 m</td>\n",
       "      <td>10x20m</td>\n",
       "      <td>1 lầu</td>\n",
       "      <td>chỗ để xe</td>\n",
       "    </tr>\n",
       "    <tr>\n",
       "      <td>2</td>\n",
       "      <td>https://alonhadat.com.vn/nha-dat/can-ban.html</td>\n",
       "      <td>Tôi cần ra gấp căn nhà nằm bên UBND xã Phước Lý</td>\n",
       "      <td>/toi-can-ra-gap-can-nha-nam-ben-ubnd-xa-phuoc-...</td>\n",
       "      <td>2020-03-13</td>\n",
       "      <td>870 triệu</td>\n",
       "      <td>Quận 2</td>\n",
       "      <td>80 m</td>\n",
       "      <td>4x9m</td>\n",
       "      <td>1 lầu</td>\n",
       "      <td>chỗ để xe</td>\n",
       "    </tr>\n",
       "    <tr>\n",
       "      <td>3</td>\n",
       "      <td>https://alonhadat.com.vn/nha-dat/can-ban.html</td>\n",
       "      <td>CẦN TIỀN BÁN NHÀ 100M2(5x20) MỘT LẦU 1 TRỆT ,G...</td>\n",
       "      <td>/can-tien-ban-nha-111m2-gan-cho-khu-dan-cu-lo-...</td>\n",
       "      <td>2020-03-13</td>\n",
       "      <td>650 triệu</td>\n",
       "      <td>Hồ Chí Minh</td>\n",
       "      <td>600 m</td>\n",
       "      <td>20x30m</td>\n",
       "      <td>1 lầu</td>\n",
       "      <td>chỗ để xe</td>\n",
       "    </tr>\n",
       "  </tbody>\n",
       "</table>\n",
       "</div>"
      ],
      "text/plain": [
       "                                         webpage  \\\n",
       "0  https://alonhadat.com.vn/nha-dat/can-ban.html   \n",
       "1  https://alonhadat.com.vn/nha-dat/can-ban.html   \n",
       "2  https://alonhadat.com.vn/nha-dat/can-ban.html   \n",
       "3  https://alonhadat.com.vn/nha-dat/can-ban.html   \n",
       "\n",
       "                                               title  \\\n",
       "0  BIỆT THỰ ĐANG CHO THUÊ 3000 USD, BÁN GẤP ĐI NƯ...   \n",
       "1  XUẤT NGOẠI BÁN ĐẤT ĐỐI DIỆN CHỢ 200M2(10X20) +...   \n",
       "2    Tôi cần ra gấp căn nhà nằm bên UBND xã Phước Lý   \n",
       "3  CẦN TIỀN BÁN NHÀ 100M2(5x20) MỘT LẦU 1 TRỆT ,G...   \n",
       "\n",
       "                                                link    postdate        price  \\\n",
       "0  /biet-thu-dang-cho-thue-3000-usd-ban-gap-di-nu...  2020-03-13     5,12 tỷ    \n",
       "1  /xuat-ngoai-ban-dat-doi-dien-cho-300m2-12x25-n...  2020-03-13   520 triệu    \n",
       "2  /toi-can-ra-gap-can-nha-nam-ben-ubnd-xa-phuoc-...  2020-03-13   870 triệu    \n",
       "3  /can-tien-ban-nha-111m2-gan-cho-khu-dan-cu-lo-...  2020-03-13   650 triệu    \n",
       "\n",
       "                 proparea propsquares measurement floors   parkings  \n",
       "0  Đường Nguyễn Văn Hưởng       203 m    10x20,3m  2 lầu  chỗ để xe  \n",
       "1        Phường Thảo Điền       300 m      10x20m  1 lầu  chỗ để xe  \n",
       "2                  Quận 2        80 m        4x9m  1 lầu  chỗ để xe  \n",
       "3             Hồ Chí Minh       600 m      20x30m  1 lầu  chỗ để xe  "
      ]
     },
     "execution_count": 17,
     "metadata": {},
     "output_type": "execute_result"
    }
   ],
   "source": [
    "import glob\n",
    "import pandas as pd\n",
    "import json\n",
    "import datetime\n",
    "from datetime import date\n",
    "import re\n",
    "\n",
    "recorddate = str(date.today())\n",
    "files = \"./../alonhadat-tradings_\"+recorddate+\".json\"\n",
    "with open(\"./../alonhadat-tradings_\"+recorddate+\".json\", encoding='utf-8') as data :\n",
    "    \n",
    "    table = pd.read_json(data)\n",
    "\n",
    " \n",
    "    \n",
    "table.head(4)\n"
   ]
  },
  {
   "cell_type": "code",
   "execution_count": 68,
   "metadata": {},
   "outputs": [
    {
     "ename": "TypeError",
     "evalue": "'list' object is not callable",
     "output_type": "error",
     "traceback": [
      "\u001b[1;31m---------------------------------------------------------------------------\u001b[0m",
      "\u001b[1;31mTypeError\u001b[0m                                 Traceback (most recent call last)",
      "\u001b[1;32m<ipython-input-68-4e012f9a4731>\u001b[0m in \u001b[0;36m<module>\u001b[1;34m\u001b[0m\n\u001b[0;32m      3\u001b[0m \u001b[1;32mfor\u001b[0m \u001b[0miLen\u001b[0m \u001b[1;32min\u001b[0m \u001b[0mtable\u001b[0m\u001b[1;33m[\u001b[0m\u001b[1;34m'link'\u001b[0m\u001b[1;33m]\u001b[0m\u001b[1;33m:\u001b[0m\u001b[1;33m\u001b[0m\u001b[1;33m\u001b[0m\u001b[0m\n\u001b[0;32m      4\u001b[0m     \u001b[0mpostid\u001b[0m \u001b[1;33m=\u001b[0m \u001b[0mre\u001b[0m\u001b[1;33m.\u001b[0m\u001b[0msplit\u001b[0m\u001b[1;33m(\u001b[0m\u001b[1;34m'[,.-]'\u001b[0m\u001b[1;33m,\u001b[0m\u001b[0miLen\u001b[0m\u001b[1;33m)\u001b[0m\u001b[1;33m\u001b[0m\u001b[1;33m\u001b[0m\u001b[0m\n\u001b[1;32m----> 5\u001b[1;33m     \u001b[0mpid\u001b[0m \u001b[1;33m=\u001b[0m \u001b[0mpostid\u001b[0m\u001b[1;33m(\u001b[0m\u001b[0mlen\u001b[0m\u001b[1;33m(\u001b[0m\u001b[0mpostid\u001b[0m\u001b[1;33m)\u001b[0m\u001b[1;33m-\u001b[0m\u001b[1;36m2\u001b[0m\u001b[1;33m)\u001b[0m\u001b[1;33m\u001b[0m\u001b[1;33m\u001b[0m\u001b[0m\n\u001b[0m\u001b[0;32m      6\u001b[0m \u001b[0mtable\u001b[0m\u001b[1;33m[\u001b[0m\u001b[1;34m'pid'\u001b[0m\u001b[1;33m]\u001b[0m\u001b[1;33m\u001b[0m\u001b[1;33m\u001b[0m\u001b[0m\n",
      "\u001b[1;31mTypeError\u001b[0m: 'list' object is not callable"
     ]
    }
   ],
   "source": [
    "import re\n",
    "mylink = table['link']\n",
    "for iLen in table['link']:\n",
    "    postid = re.split('[,.-]',iLen)\n",
    "    pid = postid(len(postid)-2)\n",
    "table['pid']"
   ]
  },
  {
   "cell_type": "code",
   "execution_count": 42,
   "metadata": {},
   "outputs": [
    {
     "data": {
      "text/plain": [
       "re.compile(r'\\s*', re.UNICODE)"
      ]
     },
     "execution_count": 42,
     "metadata": {},
     "output_type": "execute_result"
    }
   ],
   "source": [
    "import re\n",
    "pattern = re.compile(r'\\s*')\n",
    "pattern"
   ]
  },
  {
   "cell_type": "code",
   "execution_count": 47,
   "metadata": {},
   "outputs": [
    {
     "data": {
      "text/plain": [
       "0       2020-03-13\n",
       "1       2020-03-13\n",
       "2       2020-03-13\n",
       "3       2020-03-13\n",
       "4       2020-03-13\n",
       "           ...    \n",
       "1942    2020-03-13\n",
       "1943    2020-03-13\n",
       "1944    2020-03-13\n",
       "1945    2020-03-13\n",
       "1946    2020-03-13\n",
       "Name: postdate, Length: 1947, dtype: object"
      ]
     },
     "execution_count": 47,
     "metadata": {},
     "output_type": "execute_result"
    }
   ],
   "source": [
    "from datetime import date\n",
    "for x in table['postdate']:\n",
    "    result = x.replace(\"Hôm nay\", str(date.today()))\n",
    "table['postdate'] = result\n",
    "for x in table['postdate']:\n",
    "    result2 = x.replace(\"Hôm qua\",str(date.today()-datetime.timedelta(days=1)))\n",
    "table['postdate'] = result2\n",
    "table['postdate']"
   ]
  },
  {
   "cell_type": "code",
   "execution_count": 54,
   "metadata": {},
   "outputs": [],
   "source": [
    "table.head(30)\n",
    "table.to_json(files)\n"
   ]
  }
 ],
 "metadata": {
  "kernelspec": {
   "display_name": "Python 3",
   "language": "python",
   "name": "python3"
  },
  "language_info": {
   "codemirror_mode": {
    "name": "ipython",
    "version": 3
   },
   "file_extension": ".py",
   "mimetype": "text/x-python",
   "name": "python",
   "nbconvert_exporter": "python",
   "pygments_lexer": "ipython3",
   "version": "3.7.4"
  }
 },
 "nbformat": 4,
 "nbformat_minor": 4
}
